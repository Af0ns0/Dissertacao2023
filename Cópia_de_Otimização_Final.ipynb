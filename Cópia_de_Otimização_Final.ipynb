{
  "cells": [
    {
      "cell_type": "markdown",
      "metadata": {
        "id": "view-in-github",
        "colab_type": "text"
      },
      "source": [
        "<a href=\"https://colab.research.google.com/github/Af0ns0/Dissertacao2023/blob/main/C%C3%B3pia_de_Otimiza%C3%A7%C3%A3o_Final.ipynb\" target=\"_parent\"><img src=\"https://colab.research.google.com/assets/colab-badge.svg\" alt=\"Open In Colab\"/></a>"
      ]
    },
    {
      "cell_type": "markdown",
      "metadata": {
        "id": "OrHNIVnyu3Lg"
      },
      "source": [
        "Random Search"
      ]
    },
    {
      "cell_type": "code",
      "execution_count": null,
      "metadata": {
        "id": "t1pgU7XMulhn"
      },
      "outputs": [],
      "source": [
        "#array_scores = []\n",
        "def random_search(domain, date, fitness_function):\n",
        "  best_satifcation = -10\n",
        "  best_solution = [1]\n",
        "\n",
        "  for i in range(10000): # teste a melhor solucao de voos de entre 1000 possiveis e geradas/testadas no for loop\n",
        "    solution = [random.randint(domain[i][0],domain[i][1]) for i in range (len(domain))]\n",
        "    satisfaction = fitness_function(date, solution)\n",
        "\n",
        "    if satisfaction > best_satifcation:\n",
        "      best_satifcation = satisfaction\n",
        "      best_solution = solution\n",
        "  return best_solution"
      ]
    },
    {
      "cell_type": "markdown",
      "metadata": {
        "id": "qNe05GIZu6Mw"
      },
      "source": [
        " Hill Climbing"
      ]
    },
    {
      "cell_type": "code",
      "execution_count": null,
      "metadata": {
        "id": "85zp0RgEOqdb"
      },
      "outputs": [],
      "source": [
        "import random\n",
        "def hill_climb(domain, date, x, start_solution=[]):\n",
        "\n",
        "\n",
        "  solucao_otima_exemplo=0\n",
        "  solution =[]\n",
        "  soma=0\n",
        "  for i in range(len(domain)):\n",
        "    soma = soma + domain[i][1]\n",
        "    solution.append(domain[i][1])\n",
        "  if soma <= ncamas:\n",
        "    solution = solution\n",
        "  else:\n",
        "\n",
        "\n",
        "\n",
        "    print(start_solution)\n",
        "    counter=0\n",
        "    if ((len(start_solution) == 0)):\n",
        "     # random_search(domain, date, x)\n",
        "\n",
        "      solution = [random.randint(domain[i][0],domain[i][1]) for i in range (len(domain))]\n",
        "    else:\n",
        "      solution = start_solution\n",
        "#colocar variavel random (0 a 1)\n",
        "    while True:\n",
        "      #counter+=1\n",
        "      neighbours = []\n",
        "      for i in range(len(domain)):\n",
        "        if solution[i] >= domain[i][0]:  # se o elemnto da lista(solucao de voos) a ser acedido for maior que 0\n",
        "          if solution[i] <= domain[i][1]: # se o elemento da lista for maior que 0 e tambem nao igual a 9\n",
        "            #print('Entrou 0')\n",
        "            neighbours.append(solution[0:i] + [solution[i] + 1] + solution[i + 1:]) # aumenta-se uma posicao - gerar uma lista nova com o elmento mudado para cima + 1 posicao e esta lista é add á lista neighbours\n",
        "            #print('Mudança ' + i)\n",
        "        if solution[i] <= domain[i][1]:  # se o elemento da lista for menor que 9\n",
        "          if solution[i] >= domain[i][0]: # se o elemento da lista nao for igual a 0\n",
        "            #print('Entrou 1')\n",
        "            # print([solution[i] - 1])\n",
        "            # print(solution[i + 1:])\n",
        "            neighbours.append(solution[0:i] + [solution[i] - 1] +  solution[i + 1:]) # entao diminui-se uma posição\n",
        "            #print('NEIGBOURS-1')\n",
        "            #print(neighbours)\n",
        "      actual = x(date, solution) #satisfacao da solucao\n",
        "      best = actual\n",
        "      for i in range(len(neighbours)):\n",
        "        counter +=1\n",
        "        cost = x(date, neighbours[i]) #satsifacao de cada nova solucao\n",
        "        print('Satisfacao - ' + str(cost))\n",
        "        if cost > best: # se o custo da solucao do vzinho for menor que a solucao atual entao\n",
        "          best = cost   # solucao melhor passa a ser a solucao do vizinho\n",
        "          solution = neighbours[i]\n",
        "\n",
        "\n",
        "      if best == actual: # quando a condiçao acima nao se verificar e o melhor custo ja for igual ao custo atual da solucao a ser testada entao acaba o algoritmo e esta econtrada a solucao otima\n",
        "        print('Counter: ' + str(counter))\n",
        "        break\n",
        "\n",
        "\n",
        "  return solution"
      ]
    },
    {
      "cell_type": "markdown",
      "metadata": {
        "id": "twx-iguDC40o"
      },
      "source": [
        "Simullated Annealing"
      ]
    },
    {
      "cell_type": "code",
      "execution_count": null,
      "metadata": {
        "id": "DpRsNE4wC8xd"
      },
      "outputs": [],
      "source": [
        "def simulated_annealing_course(domain, date, x, initial=[], temperature=10000000000.0, cooling=0.95, step=1):\n",
        "  counter = 0\n",
        "\n",
        "  if((len(initial)) == 0):\n",
        "    solution = [random.randint(domain[i][0],domain[i][1]) for i in range (len(domain))]\n",
        "  else:\n",
        "    solution = initial\n",
        "\n",
        "  while temperature > 0.1:\n",
        "    i = random.randint(0, len(domain)-1)\n",
        "    direction = random.randint(-step, step)\n",
        "    temp_solution = solution[:]\n",
        "    temp_solution[i] += direction\n",
        "    if temp_solution[i] < domain[i][0]:\n",
        "      temp_solution[i] = domain[i][0]\n",
        "    elif temp_solution[i] > domain[i][1]:\n",
        "      temp_solution[i] = domain[i][1]\n",
        "\n",
        "    cost_solution = x(date, solution)\n",
        "    cost_solution_temp = x(date, temp_solution)\n",
        "    probability = pow(math.e, (-cost_solution_temp - cost_solution) / temperature)\n",
        "    counter+=1\n",
        "\n",
        "    if(cost_solution_temp > cost_solution or random.random() < probability):\n",
        "      solution = temp_solution\n",
        "\n",
        "    temperature = temperature * cooling\n",
        "\n",
        "  return solution"
      ]
    },
    {
      "cell_type": "code",
      "source": [
        "#2h 21 minutos\n",
        "arrannealing = np.array(array_scores_annealing)\n",
        "meanRandom = np.mean(arrannealing)\n",
        "stdRandom = np.std(arrannealing)\n",
        "\n",
        "print('Mean - ' + str(meanRandom))\n",
        "print('STD - ' + str(stdRandom))\n",
        "print('Max - ' + str(max(array_scores_annealing)))\n",
        "print('Min - ' + str(min(array_scores_annealing)))"
      ],
      "metadata": {
        "colab": {
          "base_uri": "https://localhost:8080/"
        },
        "id": "ndxtFy4UTpmr",
        "outputId": "0d7deb86-7065-4c0f-ea2c-01ccbbd44576"
      },
      "execution_count": null,
      "outputs": [
        {
          "output_type": "stream",
          "name": "stdout",
          "text": [
            "Mean - -11.889999999999999\n",
            "STD - 7.516974125271417\n",
            "Max - 4.100000000000006\n",
            "Min - -22.89999999999999\n"
          ]
        }
      ]
    },
    {
      "cell_type": "markdown",
      "metadata": {
        "id": "NvPxEw1VvKd1"
      },
      "source": [
        "**Genetic Algorigthm**"
      ]
    },
    {
      "cell_type": "code",
      "execution_count": null,
      "metadata": {
        "id": "o5s3pYrXvPXW"
      },
      "outputs": [],
      "source": [
        "def mutation(domain, step, solution):\n",
        "  gene = random.randint(0, len(domain)-1)\n",
        "  mutant = solution\n",
        "  if random.random() < 0.5: # para saber se vamos incrementar ou decremnetar o valor escolhod do voo ex se o escolhido for o 4 pode ser o 3 ou 5 a ser testado\n",
        "    if solution[gene] != domain[gene][0]: # se o gene, neste caso voo escolhido for igual a 0 nao se pode decrementar\n",
        "      mutant = solution[0:gene] + [solution[gene] - step] + solution[gene + 1:] #de modo a formar uma nova lista solucao com o voo \"mutado\" concatenando a lista da solucao ate á posicao do voo + voo mutado + o resto da lista\n",
        "  else:\n",
        "    if solution[gene] != domain[gene][1]: # se o gene, neste caso voo escolhido for igual a 9 nao se pode incrementar\n",
        "      mutant = solution[0:gene] + [solution[gene] + step] + solution[gene + 1:]\n",
        "  return mutant\n",
        "\n",
        "\n",
        "def cross_over(domain, solution1, solution2):\n",
        "  gene = random.randint(1, len(domain)-2)\n",
        "  return solution1[0:gene] + solution2[gene:]\n",
        "\n",
        "#array_scores_gen=[]\n",
        "def genetic(date, domain, x, population_size=400, step=1, probability_mutation=0.2, elitism=0.2, number_generations=25):\n",
        "\n",
        "  solution=[]\n",
        "  solution_optm = []\n",
        "  soma=0\n",
        "  for i in range(len(domain)):\n",
        "    soma = soma + domain[i][1]\n",
        "    solution.append(domain[i][1])\n",
        "\n",
        "  if soma <= ncamas:\n",
        "    solution_optm = solution\n",
        "\n",
        "  else:\n",
        "    population = []\n",
        "    for i in range(population_size): #criar a populacao\n",
        "      #solution = [random.randint(domain[i][0],domain[i][1]) for i in range (len(domain))] #gerar um crommossoma, conjunto de genes(voos)\n",
        "      if i == 0:\n",
        "        solution = [random.randint(domain[i][0],domain[i][1]) for i in range (len(domain))] #gerar um crommossoma, conjunto de genes(voos)\n",
        "        #solution = random_search(domain, date, x)\n",
        "      else:\n",
        "        solution = [random.randint(domain[i][0],domain[i][1]) for i in range (len(domain))] #gerar um crommossoma, conjunto de genes(voos)\n",
        "\n",
        "      print('Random_Sol' + ' ' + str(solution))\n",
        "      population.append(solution)\n",
        "\n",
        "    number_elitism = int(elitism * population_size) # de modo a saber quantas solucoes /cromossomas da populacao a escolher para seguirem para a geracao a seguir\n",
        "\n",
        "    for i in range(number_generations):\n",
        "      costs = [(x(date, individual), individual)for individual in population] # um for each loop para cada elemento/individuo da populcao (lista de voos) para cada um cria uma lista de tuples com (custo, individuo)\n",
        "      print(costs)\n",
        "      #print('Sol - ' + str(costs[0][0]))\n",
        "      #print('Sol - ' + str(costs[0][1]))\n",
        "      costs.sort(reverse=True) # de modo a ordenar o csuto da pupulacao as solucoes com custo mais baixo estao em primeiro\n",
        "      ordered_individuals = [individual for (costs, individual) in costs] # para cada um dos tuples na lista costs saca o individuo criando uma lista com os mesmos\n",
        "      population = ordered_individuals[0:number_elitism] #de modo a gerar a nova geracao desde  a posicao 0(preco mais baixo) ate a posicao dos numeros de solucoes que avançam para a prox geraçao (20)\n",
        "      #array_scores_gen.append(x(date, ordered_individuals[0]))\n",
        "      #print(population)\n",
        "      while len(population) < population_size: #como a polucao so tem os 20 melhores \"pais\" da geracao anterior enquanto for menor que o numero que uma populcao deve ter, aplicamos a mutacao e crossover destes 20 pais para criar os restantes individuos\n",
        "        if random.random() < probability_mutation:\n",
        "          m = random.randint(0, number_elitism) # selecionar que solucao(indiviuo) vamos aplicar a mutacao de 0 a 20(numero de elistsmo)\n",
        "          population.append(mutation(domain, step, ordered_individuals[m]))\n",
        "          #print('MUTACAO - ' + str(mutation(domain, step, ordered_individuals[m])))\n",
        "          #print(fitness_function(date, mutation(domain, step, ordered_individuals[m])))\n",
        "        else:\n",
        "            individual1 = random.randint(0, number_elitism)\n",
        "            individual2 = random.randint(0, number_elitism)\n",
        "            population.append(cross_over(domain, ordered_individuals[individual1], ordered_individuals[individual2]))\n",
        "            #print('CROSSOVER - ' + str((cross_over(domain, ordered_individuals[individual1], ordered_individuals[individual2]))))\n",
        "            #print(fitness_function(date,(cross_over(domain, ordered_individuals[individual1], ordered_individuals[individual2]))))\n",
        "\n",
        "    solution_optm = costs[0][1] #retorna o melhor custo que é o primeiro da lista costs\n",
        "\n",
        "  return solution_optm #retorna o melhor custo que é o primeiro da lista costs"
      ]
    }
  ],
  "metadata": {
    "colab": {
      "collapsed_sections": [
        "1ZMocyqOuQ_B",
        "6JOJZ2UbweKJ",
        "zXPIMkgLwzEw",
        "ZiJ8LAt_vV1J"
      ],
      "provenance": [],
      "mount_file_id": "1j1ZslhAsoMH-HUusMR8zYI6G8fgdcuwZ",
      "authorship_tag": "ABX9TyM3mWMHaP3vIxjRg9u9N8TA",
      "include_colab_link": true
    },
    "kernelspec": {
      "display_name": "Python 3",
      "name": "python3"
    },
    "language_info": {
      "name": "python"
    }
  },
  "nbformat": 4,
  "nbformat_minor": 0
}